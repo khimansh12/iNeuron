{
 "cells": [
  {
   "cell_type": "markdown",
   "id": "af32420a",
   "metadata": {},
   "source": [
    "# python basic assignment 6"
   ]
  },
  {
   "cell_type": "code",
   "execution_count": null,
   "id": "68e84e54",
   "metadata": {},
   "outputs": [],
   "source": [
    "1. Escape characters are the characters in string values that and would be difficult or impossible \n",
    "   to type into code"
   ]
  },
  {
   "cell_type": "code",
   "execution_count": null,
   "id": "c234d549",
   "metadata": {},
   "outputs": [],
   "source": [
    "2. \\n is a newline\n",
    "   \\t is a tab"
   ]
  },
  {
   "cell_type": "code",
   "execution_count": null,
   "id": "5ab14889",
   "metadata": {},
   "outputs": [],
   "source": [
    "3. The \\\\ escape character represents a backslash character."
   ]
  },
  {
   "cell_type": "code",
   "execution_count": null,
   "id": "f1b39623",
   "metadata": {},
   "outputs": [],
   "source": [
    "4. The single quote in \"Howl's is fine\" because we've used double quotes to mark the beginning and end of the string."
   ]
  },
  {
   "cell_type": "code",
   "execution_count": null,
   "id": "35949223",
   "metadata": {},
   "outputs": [],
   "source": [
    "5. Multiline strings allow you to use newlines in strings without the \\n escape character."
   ]
  },
  {
   "cell_type": "code",
   "execution_count": null,
   "id": "b4576581",
   "metadata": {},
   "outputs": [],
   "source": [
    "6. The expressions is:\n",
    "\n",
    "   'e'\n",
    "   'Hello'\n",
    "   'Hello'\n",
    "   'lo world!"
   ]
  },
  {
   "cell_type": "code",
   "execution_count": null,
   "id": "124b6fc4",
   "metadata": {},
   "outputs": [],
   "source": [
    "7. The expressions is:\n",
    "\n",
    "   'HELLO'\n",
    "    True\n",
    "   'hello'"
   ]
  },
  {
   "cell_type": "code",
   "execution_count": null,
   "id": "4ac37964",
   "metadata": {},
   "outputs": [],
   "source": [
    "8. The expressions is:\n",
    "\n",
    "  ['Remember,', 'remember,', 'the', 'fifth', 'of', 'November.']\n",
    "  'There-can-be-only-one."
   ]
  },
  {
   "cell_type": "code",
   "execution_count": null,
   "id": "3566547f",
   "metadata": {},
   "outputs": [],
   "source": [
    "9.  The rjust(), ljust(), and center() are all string methods. "
   ]
  },
  {
   "cell_type": "code",
   "execution_count": null,
   "id": "34156bfb",
   "metadata": {},
   "outputs": [],
   "source": [
    "10. The lstrip() and rstrip() methods remove whitespace from the left and right ends of a string respectively."
   ]
  }
 ],
 "metadata": {
  "kernelspec": {
   "display_name": "Python 3",
   "language": "python",
   "name": "python3"
  },
  "language_info": {
   "codemirror_mode": {
    "name": "ipython",
    "version": 3
   },
   "file_extension": ".py",
   "mimetype": "text/x-python",
   "name": "python",
   "nbconvert_exporter": "python",
   "pygments_lexer": "ipython3",
   "version": "3.8.8"
  }
 },
 "nbformat": 4,
 "nbformat_minor": 5
}

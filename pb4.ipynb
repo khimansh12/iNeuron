{
 "cells": [
  {
   "cell_type": "markdown",
   "id": "8633643b",
   "metadata": {},
   "source": [
    "# python assingment basic 4"
   ]
  },
  {
   "cell_type": "code",
   "execution_count": null,
   "id": "63f5d257",
   "metadata": {},
   "outputs": [],
   "source": [
    "1. The empty list value is a list value that contains no items."
   ]
  },
  {
   "cell_type": "code",
   "execution_count": null,
   "id": "cc545b1b",
   "metadata": {},
   "outputs": [],
   "source": [
    "2. spam[2] = 'hello'  \n",
    "   (index starts from 0 so 3rd place index will be 2)"
   ]
  },
  {
   "cell_type": "markdown",
   "id": "b7267d13",
   "metadata": {},
   "source": [
    "3. 'd' "
   ]
  },
  {
   "cell_type": "code",
   "execution_count": null,
   "id": "1be834cf",
   "metadata": {},
   "outputs": [],
   "source": [
    "4. 'd'"
   ]
  },
  {
   "cell_type": "code",
   "execution_count": null,
   "id": "0168d284",
   "metadata": {},
   "outputs": [],
   "source": [
    "5. ['a', 'b']"
   ]
  },
  {
   "cell_type": "code",
   "execution_count": null,
   "id": "674ca7d4",
   "metadata": {},
   "outputs": [],
   "source": [
    "6. 1"
   ]
  },
  {
   "cell_type": "code",
   "execution_count": null,
   "id": "e9e9f2db",
   "metadata": {},
   "outputs": [],
   "source": [
    "7. [3.14, 'cat', 11, 'cat', True, 99]"
   ]
  },
  {
   "cell_type": "code",
   "execution_count": null,
   "id": "f83de60a",
   "metadata": {},
   "outputs": [],
   "source": [
    "8. [3.14, 11, 'cat', True]"
   ]
  },
  {
   "cell_type": "code",
   "execution_count": null,
   "id": "a41e7587",
   "metadata": {},
   "outputs": [],
   "source": [
    "9. The operator for list concatenation is +, whereas the operator for replication is *."
   ]
  },
  {
   "cell_type": "code",
   "execution_count": null,
   "id": "f9305a8a",
   "metadata": {},
   "outputs": [],
   "source": [
    "10. append() will add values only to the end of a list, insert() can add the values anywhere in the list."
   ]
  },
  {
   "cell_type": "code",
   "execution_count": null,
   "id": "5f44946a",
   "metadata": {},
   "outputs": [],
   "source": [
    "11. The del statement and the remove() list method are two ways to remove values from a list."
   ]
  },
  {
   "cell_type": "code",
   "execution_count": null,
   "id": "742eaebc",
   "metadata": {},
   "outputs": [],
   "source": [
    "12. Both lists and strings can be passed to len(), both have indexes and slices, both can be used in for loops, be \n",
    "    concatenated or replicated, and can be used with the in and not in operators."
   ]
  },
  {
   "cell_type": "code",
   "execution_count": null,
   "id": "c989a77c",
   "metadata": {},
   "outputs": [],
   "source": [
    "13. Lists are mutable, they can have values added, removed, or changed. lists use the square brackets, [ and ].\n",
    "    Tuples are immutable , they cannot be changed at all. tuples are written using parentheses, ( and )."
   ]
  },
  {
   "cell_type": "code",
   "execution_count": null,
   "id": "5ba8ab8f",
   "metadata": {},
   "outputs": [],
   "source": [
    "14. (42,)"
   ]
  },
  {
   "cell_type": "code",
   "execution_count": null,
   "id": "9ba5a915",
   "metadata": {},
   "outputs": [],
   "source": [
    "15. The tuple() and list() functions"
   ]
  },
  {
   "cell_type": "code",
   "execution_count": null,
   "id": "a46b96e0",
   "metadata": {},
   "outputs": [],
   "source": [
    "16. They contain references to list values."
   ]
  },
  {
   "cell_type": "markdown",
   "id": "9c5e2254",
   "metadata": {},
   "source": []
  },
  {
   "cell_type": "code",
   "execution_count": null,
   "id": "0fe38f76",
   "metadata": {},
   "outputs": [],
   "source": [
    "17. The copy.copy() function will do a shallow copy of a list, while the copy.deepcopy() function will do a\n",
    "    deep copy of a list. That is, only copy.deepcopy() will duplicate any lists inside the list."
   ]
  }
 ],
 "metadata": {
  "kernelspec": {
   "display_name": "Python 3",
   "language": "python",
   "name": "python3"
  },
  "language_info": {
   "codemirror_mode": {
    "name": "ipython",
    "version": 3
   },
   "file_extension": ".py",
   "mimetype": "text/x-python",
   "name": "python",
   "nbconvert_exporter": "python",
   "pygments_lexer": "ipython3",
   "version": "3.8.8"
  }
 },
 "nbformat": 4,
 "nbformat_minor": 5
}

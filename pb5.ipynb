{
 "cells": [
  {
   "cell_type": "markdown",
   "id": "64d2f6ae",
   "metadata": {},
   "source": [
    "# python assignment 5"
   ]
  },
  {
   "cell_type": "code",
   "execution_count": null,
   "id": "5d874ce0",
   "metadata": {},
   "outputs": [],
   "source": [
    "1. What does an empty dictionarys code look like?\n",
    "\n",
    "#solution\n",
    "\n",
    "   Two curly brackets: {}"
   ]
  },
  {
   "cell_type": "code",
   "execution_count": null,
   "id": "3e436611",
   "metadata": {},
   "outputs": [],
   "source": [
    "2. What is the value of a dictionary value with the key 'foo' and the value 42?\n",
    "\n",
    "#solution\n",
    "\n",
    "   {'foo': 42}"
   ]
  },
  {
   "cell_type": "code",
   "execution_count": null,
   "id": "5cee67bd",
   "metadata": {},
   "outputs": [],
   "source": [
    "3. What is the most significant distinction between a dictionary and a list?\n",
    "\n",
    "#solution\n",
    "\n",
    "   The items stored in a dictionary are unordered, whereas the items in a list are ordered."
   ]
  },
  {
   "cell_type": "code",
   "execution_count": null,
   "id": "ef18613e",
   "metadata": {},
   "outputs": [],
   "source": [
    "4. What happens if you try to access spam['foo'] if spam is {'bar': 100}? \n",
    "\n",
    "#solution\n",
    "\n",
    "    keyError error"
   ]
  },
  {
   "cell_type": "code",
   "execution_count": null,
   "id": "bc092763",
   "metadata": {},
   "outputs": [],
   "source": [
    "5. If a dictionary is stored in spam, what is the difference between the expressions 'cat' in spam and 'cat' in \n",
    "   spam.keys()?\n",
    "    \n",
    "#solution\n",
    "   \n",
    "  In both the cases operator checks whether a value exists as a key in the dictionary. so there is no difference."
   ]
  },
  {
   "cell_type": "code",
   "execution_count": null,
   "id": "c45aa842",
   "metadata": {},
   "outputs": [],
   "source": [
    "6.  If a dictionary is stored in spam, what is the difference between the expressions 'cat' in spam and\n",
    "   'cat' in spam.values()?\n",
    "    \n",
    "#solution\n",
    "    \n",
    "    'cat' in spam checks whether there is a 'cat' key in the dictionary.\n",
    "    'cat' in spam.values() checks whether there is a value 'cat' for one of the keys in spam."
   ]
  },
  {
   "cell_type": "code",
   "execution_count": null,
   "id": "d66161d7",
   "metadata": {},
   "outputs": [],
   "source": [
    "7.  What is a shortcut for the following code?\n",
    "    if 'color' not in spam:\n",
    "    spam['color'] = 'black'\n",
    "    \n",
    "#solution\n",
    "    \n",
    "    spam.setdefault('color', 'black')"
   ]
  },
  {
   "cell_type": "code",
   "execution_count": null,
   "id": "08039ba0",
   "metadata": {},
   "outputs": [],
   "source": [
    "8. How do you \"pretty print\" dictionary values using which module and function?\n",
    "\n",
    "#solution\n",
    "\n",
    "   pprint.pprint()"
   ]
  }
 ],
 "metadata": {
  "kernelspec": {
   "display_name": "Python 3",
   "language": "python",
   "name": "python3"
  },
  "language_info": {
   "codemirror_mode": {
    "name": "ipython",
    "version": 3
   },
   "file_extension": ".py",
   "mimetype": "text/x-python",
   "name": "python",
   "nbconvert_exporter": "python",
   "pygments_lexer": "ipython3",
   "version": "3.8.8"
  }
 },
 "nbformat": 4,
 "nbformat_minor": 5
}

{
 "cells": [
  {
   "cell_type": "code",
   "execution_count": null,
   "id": "dd20e78e",
   "metadata": {},
   "outputs": [],
   "source": [
    "1. Functions helps to reduce the need for writing code again and again. we can write a perticular function \n",
    "   and call it numerious time according to the need of program. This makes programs shorter, easier to read or modify."
   ]
  },
  {
   "cell_type": "markdown",
   "id": "628e5754",
   "metadata": {},
   "source": [
    "2. The code in a function executes when the function is called."
   ]
  },
  {
   "cell_type": "markdown",
   "id": "1fe142ec",
   "metadata": {},
   "source": [
    "3. The def statement is used to defines a function."
   ]
  },
  {
   "cell_type": "code",
   "execution_count": null,
   "id": "bf325adf",
   "metadata": {},
   "outputs": [],
   "source": [
    "4. A function consist of the def statement and the code in it is def clause.\n",
    "\n",
    "   A function call is used to moves the program execution into the function, and the \n",
    "   function call is used to get the function's return value."
   ]
  },
  {
   "cell_type": "code",
   "execution_count": null,
   "id": "d8f762a2",
   "metadata": {},
   "outputs": [],
   "source": [
    "5. There is only one global scope in python program, a local scope is created everytime a function is called."
   ]
  },
  {
   "cell_type": "code",
   "execution_count": null,
   "id": "83d20fe6",
   "metadata": {},
   "outputs": [],
   "source": [
    "6. The local scope is destroyed, and all the variables in it are forgotten."
   ]
  },
  {
   "cell_type": "code",
   "execution_count": null,
   "id": "185a063c",
   "metadata": {},
   "outputs": [],
   "source": [
    "7. A return value is the value that a function call evaluates to. A return value can be used as part of an expression."
   ]
  },
  {
   "cell_type": "code",
   "execution_count": null,
   "id": "5a31c0e4",
   "metadata": {},
   "outputs": [],
   "source": [
    "8. None"
   ]
  },
  {
   "cell_type": "code",
   "execution_count": null,
   "id": "84c96013",
   "metadata": {},
   "outputs": [],
   "source": [
    "9. function variable can refer to the global variable using a global statement"
   ]
  },
  {
   "cell_type": "code",
   "execution_count": null,
   "id": "65c68c92",
   "metadata": {},
   "outputs": [],
   "source": [
    "10. NoneType"
   ]
  },
  {
   "cell_type": "code",
   "execution_count": null,
   "id": "85582b75",
   "metadata": {},
   "outputs": [],
   "source": [
    "11. "
   ]
  },
  {
   "cell_type": "markdown",
   "id": "3d274386",
   "metadata": {},
   "source": [
    "12. spam.bacon()"
   ]
  },
  {
   "cell_type": "code",
   "execution_count": null,
   "id": "ff24c3a8",
   "metadata": {},
   "outputs": [],
   "source": [
    "13. we can place the line of the code in try clause because in the try clause all statements are executed until \n",
    "    an exception is encountered."
   ]
  },
  {
   "cell_type": "code",
   "execution_count": null,
   "id": "de5ad128",
   "metadata": {},
   "outputs": [],
   "source": [
    "14. the code that may cause error is placed in try clause and the code that executes if an error happens goes in \n",
    "    the except clause."
   ]
  }
 ],
 "metadata": {
  "kernelspec": {
   "display_name": "Python 3",
   "language": "python",
   "name": "python3"
  },
  "language_info": {
   "codemirror_mode": {
    "name": "ipython",
    "version": 3
   },
   "file_extension": ".py",
   "mimetype": "text/x-python",
   "name": "python",
   "nbconvert_exporter": "python",
   "pygments_lexer": "ipython3",
   "version": "3.8.8"
  }
 },
 "nbformat": 4,
 "nbformat_minor": 5
}

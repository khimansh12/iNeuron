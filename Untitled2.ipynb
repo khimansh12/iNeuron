{
 "cells": [
  {
   "cell_type": "markdown",
   "id": "0efd7842",
   "metadata": {},
   "source": [
    "# Assingment 1"
   ]
  },
  {
   "cell_type": "code",
   "execution_count": null,
   "id": "3fb55583",
   "metadata": {},
   "outputs": [],
   "source": [
    "1. values     = 'hello' , -87.8 , 6\n",
    "   expression =  * , - , / , +"
   ]
  },
  {
   "cell_type": "code",
   "execution_count": null,
   "id": "dbc0f307",
   "metadata": {},
   "outputs": [],
   "source": []
  },
  {
   "cell_type": "code",
   "execution_count": null,
   "id": "6647264d",
   "metadata": {},
   "outputs": [],
   "source": [
    "2. string :  It is the array of characters which are generally enclosed within single quotation marks, \n",
    "             or double quotation marks. It is immutable.\n",
    "  variable : Variables are containers for storing data values. Variables are containers for storing data values  \n",
    "    "
   ]
  },
  {
   "cell_type": "code",
   "execution_count": null,
   "id": "48aa4a27",
   "metadata": {},
   "outputs": [],
   "source": []
  },
  {
   "cell_type": "code",
   "execution_count": null,
   "id": "cc59d2ff",
   "metadata": {},
   "outputs": [],
   "source": [
    "3. There are different data types in python. some of them are\n",
    "   - Text data Type (str)\n",
    "   - Numeric data type (int, float , complex)\n",
    "   - Boolean data type (bool)"
   ]
  },
  {
   "cell_type": "code",
   "execution_count": null,
   "id": "e8a0fb6a",
   "metadata": {},
   "outputs": [],
   "source": []
  },
  {
   "cell_type": "code",
   "execution_count": null,
   "id": "541f00e6",
   "metadata": {},
   "outputs": [],
   "source": [
    "4. An expression is a combination of values , variables, operators , and call to functions.\n",
    "   eg: \n",
    "        4 + 6 is an expression\n",
    "        \n",
    "   The 4 and 6 are integer values and the + is the mathematical operator. This expression evaluates\n",
    "   down to the single integer value 4.\n",
    "   4 + 6 = 10"
   ]
  },
  {
   "cell_type": "code",
   "execution_count": null,
   "id": "9cb875b1",
   "metadata": {},
   "outputs": [],
   "source": []
  },
  {
   "cell_type": "code",
   "execution_count": null,
   "id": "3e517193",
   "metadata": {},
   "outputs": [],
   "source": [
    "5. Anything that does something is a statement. Any assignment to a variable or function call is a statement.\n",
    "   A = \"iNeuron\" is a statement that assigns A to the value of the expression \"iNeuron\".\n",
    "   An expression is an instruction that combines values and operators and always evaluates down to a single value.\n",
    "\n",
    "   eg:\n",
    "        4+6 is an expression but a= 4+6 is an statement\n",
    "        "
   ]
  },
  {
   "cell_type": "code",
   "execution_count": null,
   "id": "af6c8ac2",
   "metadata": {},
   "outputs": [],
   "source": []
  },
  {
   "cell_type": "code",
   "execution_count": null,
   "id": "38bc6716",
   "metadata": {},
   "outputs": [],
   "source": [
    "6. 23\n",
    "   it will increment the value of bacon by 1 value."
   ]
  },
  {
   "cell_type": "code",
   "execution_count": null,
   "id": "90e59299",
   "metadata": {},
   "outputs": [],
   "source": []
  },
  {
   "cell_type": "code",
   "execution_count": null,
   "id": "c0fefbca",
   "metadata": {},
   "outputs": [],
   "source": [
    "7. 'spamspamspam'\n",
    "   'spamspamspam'"
   ]
  },
  {
   "cell_type": "code",
   "execution_count": null,
   "id": "b3f27978",
   "metadata": {},
   "outputs": [],
   "source": []
  },
  {
   "cell_type": "code",
   "execution_count": null,
   "id": "b5e3d15d",
   "metadata": {},
   "outputs": [],
   "source": [
    "8. eggs a valid variable name while 100 is invalid because we cannot keep the first character to be a integer value\n",
    "   while assigning to literal."
   ]
  },
  {
   "cell_type": "code",
   "execution_count": null,
   "id": "f47643b3",
   "metadata": {},
   "outputs": [],
   "source": []
  },
  {
   "cell_type": "code",
   "execution_count": null,
   "id": "7e5ad8f0",
   "metadata": {},
   "outputs": [],
   "source": [
    "9. The int() , float() , and str( ) functions will evaluate to the integer, floating-point number, \n",
    "   and string versions of the value."
   ]
  },
  {
   "cell_type": "code",
   "execution_count": null,
   "id": "28887820",
   "metadata": {},
   "outputs": [],
   "source": []
  },
  {
   "cell_type": "code",
   "execution_count": null,
   "id": "158a22a1",
   "metadata": {},
   "outputs": [],
   "source": [
    "10. the expression will show error because python can only concatenate str (not \"int\") to str .so we have to change\n",
    "    99(int) to '99'(str).The expression should be:\n",
    "        \n",
    "        \"I have eaten\"  + \" 99\" + \" burritos\""
   ]
  }
 ],
 "metadata": {
  "kernelspec": {
   "display_name": "Python 3",
   "language": "python",
   "name": "python3"
  },
  "language_info": {
   "codemirror_mode": {
    "name": "ipython",
    "version": 3
   },
   "file_extension": ".py",
   "mimetype": "text/x-python",
   "name": "python",
   "nbconvert_exporter": "python",
   "pygments_lexer": "ipython3",
   "version": "3.8.8"
  }
 },
 "nbformat": 4,
 "nbformat_minor": 5
}

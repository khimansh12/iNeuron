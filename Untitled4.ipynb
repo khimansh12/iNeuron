{
 "cells": [
  {
   "cell_type": "markdown",
   "id": "b72196b8",
   "metadata": {},
   "source": [
    "# PB Assingment 2"
   ]
  },
  {
   "cell_type": "code",
   "execution_count": null,
   "id": "bcf1baea",
   "metadata": {},
   "outputs": [],
   "source": [
    "1. Two values of boolean data type are True and False which are 1 and 0 respectively and behave as such in\n",
    "   arithmetic contexts.\n",
    "   eg:\n",
    "    print(10 > 9)     --------- True \n",
    "    print(10 == 9)    --------- False\n",
    "    print(10 < 9)     --------- False "
   ]
  },
  {
   "cell_type": "code",
   "execution_count": null,
   "id": "eeadf9be",
   "metadata": {},
   "outputs": [],
   "source": []
  },
  {
   "cell_type": "code",
   "execution_count": null,
   "id": "a2b1dc4e",
   "metadata": {},
   "outputs": [],
   "source": [
    "2. The logical operators and, or and not are also referred to as boolean operators. \n",
    "   \n",
    "    Boolean and operator returns true if both operands return true otherwise it returns False\n",
    "    a=100\n",
    "    b=50\n",
    "    a>80 and b>80\n",
    "    False\n",
    "\n",
    "    Boolean or operator returns true if any one operand is true.\n",
    "    a=50\n",
    "    b=25\n",
    "    a>40 or b>40\n",
    "    True\n",
    "    \n",
    "    The not operator returns true if its operand is a false expression and returns false if it is true.\n",
    "    a=10\n",
    "    a>10\n",
    "    False\n",
    "    \n",
    "    not(a>10)\n",
    "    True"
   ]
  },
  {
   "cell_type": "code",
   "execution_count": null,
   "id": "f1a74e28",
   "metadata": {},
   "outputs": [],
   "source": []
  },
  {
   "cell_type": "code",
   "execution_count": null,
   "id": "7155073e",
   "metadata": {},
   "outputs": [],
   "source": [
    "3.Boolean operators truth tables:\n",
    "    \n",
    "    Operator A  Operator B       Logical AND result       Logical OR Result\n",
    "        True     True                 True                      True\n",
    "        True     False                False                     True\n",
    "        False    True                 False                     True\n",
    "        False    False                False                     False\n",
    "        \n",
    "        \n",
    "        \n",
    "        \n",
    "        Operator A    Logical NOT Result\n",
    "            True            False\n",
    "            False           True"
   ]
  },
  {
   "cell_type": "code",
   "execution_count": null,
   "id": "5320c1ff",
   "metadata": {},
   "outputs": [],
   "source": []
  },
  {
   "cell_type": "code",
   "execution_count": null,
   "id": "2129e1fb",
   "metadata": {},
   "outputs": [],
   "source": [
    "4. False\n",
    "   False\n",
    "   True\n",
    "   False \n",
    "   False\n",
    "   True"
   ]
  },
  {
   "cell_type": "code",
   "execution_count": null,
   "id": "d2f7bef6",
   "metadata": {},
   "outputs": [],
   "source": []
  },
  {
   "cell_type": "code",
   "execution_count": null,
   "id": "689147eb",
   "metadata": {},
   "outputs": [],
   "source": [
    "5. There are six main comparison operators: \n",
    "    equal to (==) \n",
    "    not equal to  (!=)\n",
    "    greater than, (>)\n",
    "    greater than or equal to (>=)\n",
    "    less than (<)\n",
    "    and less than or equal to (<=)"
   ]
  },
  {
   "cell_type": "code",
   "execution_count": null,
   "id": "8fe18f1f",
   "metadata": {},
   "outputs": [],
   "source": []
  },
  {
   "cell_type": "code",
   "execution_count": null,
   "id": "f42b1fa2",
   "metadata": {},
   "outputs": [],
   "source": [
    "6. The “=” is an assignment operator is used to assign the value on the right to the variable on the left. \n",
    "   The '==' operator checks whether the two given operands are equal or not\n",
    "    \n",
    "    assignment operator:\n",
    "        a= 5 (this will assign the value 5 to a)\n",
    "        \n",
    "    equal to \n",
    "        q= 5\n",
    "        p= 5\n",
    "        q==p\n",
    "        True ( it will return true because both q and p are equal)"
   ]
  },
  {
   "cell_type": "code",
   "execution_count": null,
   "id": "9a1d66aa",
   "metadata": {},
   "outputs": [],
   "source": []
  },
  {
   "cell_type": "code",
   "execution_count": null,
   "id": "7c35be07",
   "metadata": {},
   "outputs": [],
   "source": [
    "7. spam = 0\n",
    "if spam == 10:\n",
    "    print('eggs')\n",
    "if spam > 5:\n",
    "    print('bacon')\n",
    "else:\n",
    "    print('ham')\n",
    "    print('spam')\n",
    "    print('spam')\n",
    "\n",
    "    \n",
    "    \n",
    "    OUTPUT: \n",
    "        ham\n",
    "        spam\n",
    "        spam"
   ]
  },
  {
   "cell_type": "code",
   "execution_count": null,
   "id": "39e20c7c",
   "metadata": {},
   "outputs": [],
   "source": [
    "8."
   ]
  },
  {
   "cell_type": "code",
   "execution_count": 3,
   "id": "cc3c2b20",
   "metadata": {},
   "outputs": [],
   "source": [
    "spam = int(input(\"enter a digit to check \"))\n",
    "if spam == 1:\n",
    "    print(\"Hello\")\n",
    "elif spam == 2:\n",
    "    print(\"Howdy\")\n",
    "else:\n",
    "    print(\"greetings\")\n",
    "    "
   ]
  },
  {
   "cell_type": "code",
   "execution_count": null,
   "id": "1a6f3c00",
   "metadata": {},
   "outputs": [],
   "source": []
  },
  {
   "cell_type": "code",
   "execution_count": null,
   "id": "f3d98281",
   "metadata": {},
   "outputs": [],
   "source": [
    "9. Ctrl+C is used to exit out of endless loop"
   ]
  },
  {
   "cell_type": "code",
   "execution_count": null,
   "id": "fe1e33af",
   "metadata": {},
   "outputs": [],
   "source": []
  },
  {
   "cell_type": "code",
   "execution_count": null,
   "id": "58f9e111",
   "metadata": {},
   "outputs": [],
   "source": [
    "10. Break - Break will eliminate the execution of remaining iteration of loop and will resume control of program \n",
    "    to the end of loop \n",
    "    \n",
    "    Continue - Continue will terminate only the current iteration of loop and will resume the control of the program\n",
    "    to next iteration of that loop "
   ]
  },
  {
   "cell_type": "code",
   "execution_count": null,
   "id": "a6b720d4",
   "metadata": {},
   "outputs": [],
   "source": []
  },
  {
   "cell_type": "code",
   "execution_count": null,
   "id": "91d0a8e4",
   "metadata": {},
   "outputs": [],
   "source": [
    "11. The range() function can be represented in three different ways,\n",
    "\n",
    "    range(stop_value) : This by default considers the starting point as zero.\n",
    "        eg: range(10)\n",
    "            \n",
    "    range(start_value, stop_value) : This generates the sequence based on the start and stop value.\n",
    "        eg: range(0,10)\n",
    "            \n",
    "    range(start_value, stop_value, step_size): It generates the sequence by incrementing the start value using \n",
    "    the step size until it reaches the stop value.\n",
    "        eg: range(0,10,1)"
   ]
  },
  {
   "cell_type": "code",
   "execution_count": null,
   "id": "da36cebb",
   "metadata": {},
   "outputs": [],
   "source": [
    "11."
   ]
  },
  {
   "cell_type": "code",
   "execution_count": null,
   "id": "5cf5f46d",
   "metadata": {},
   "outputs": [],
   "source": [
    "for i in range(1, 11):\n",
    "    print(i)"
   ]
  },
  {
   "cell_type": "code",
   "execution_count": null,
   "id": "bfc383d0",
   "metadata": {},
   "outputs": [],
   "source": [
    "i = 1\n",
    "while(i<=10):\n",
    "    print(i)\n",
    "    i += 1"
   ]
  },
  {
   "cell_type": "code",
   "execution_count": null,
   "id": "d113dbf5",
   "metadata": {},
   "outputs": [],
   "source": []
  },
  {
   "cell_type": "code",
   "execution_count": null,
   "id": "95deff42",
   "metadata": {},
   "outputs": [],
   "source": [
    "12. spam.bacon() can be used to call the function."
   ]
  }
 ],
 "metadata": {
  "kernelspec": {
   "display_name": "Python 3",
   "language": "python",
   "name": "python3"
  },
  "language_info": {
   "codemirror_mode": {
    "name": "ipython",
    "version": 3
   },
   "file_extension": ".py",
   "mimetype": "text/x-python",
   "name": "python",
   "nbconvert_exporter": "python",
   "pygments_lexer": "ipython3",
   "version": "3.8.8"
  }
 },
 "nbformat": 4,
 "nbformat_minor": 5
}
